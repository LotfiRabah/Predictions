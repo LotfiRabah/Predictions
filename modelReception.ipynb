{
 "cells": [
  {
   "cell_type": "markdown",
   "id": "28d4a8b0",
   "metadata": {},
   "source": [
    "## Model de prédiction conçu pour le pôle réception"
   ]
  },
  {
   "cell_type": "markdown",
   "id": "a36adf11",
   "metadata": {},
   "source": [
    "### Import des librairies"
   ]
  },
  {
   "cell_type": "code",
   "execution_count": null,
   "id": "a2248c19",
   "metadata": {},
   "outputs": [],
   "source": []
  }
 ],
 "metadata": {
  "language_info": {
   "name": "python"
  }
 },
 "nbformat": 4,
 "nbformat_minor": 5
}
